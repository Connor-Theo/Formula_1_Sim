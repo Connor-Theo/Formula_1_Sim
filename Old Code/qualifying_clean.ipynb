{
 "cells": [
  {
   "cell_type": "code",
   "execution_count": 16,
   "id": "f653bf06",
   "metadata": {},
   "outputs": [],
   "source": [
    "import pandas as pd\n",
    "import re"
   ]
  },
  {
   "cell_type": "code",
   "execution_count": 2,
   "id": "6d471dd4",
   "metadata": {},
   "outputs": [],
   "source": [
    "df = pd.read_csv('D:\\Prof_Dev\\Git\\Formula_1_Sim\\Resources\\qualifying.csv')"
   ]
  },
  {
   "cell_type": "code",
   "execution_count": 3,
   "id": "e8719fde",
   "metadata": {},
   "outputs": [
    {
     "data": {
      "text/html": [
       "<div>\n",
       "<style scoped>\n",
       "    .dataframe tbody tr th:only-of-type {\n",
       "        vertical-align: middle;\n",
       "    }\n",
       "\n",
       "    .dataframe tbody tr th {\n",
       "        vertical-align: top;\n",
       "    }\n",
       "\n",
       "    .dataframe thead th {\n",
       "        text-align: right;\n",
       "    }\n",
       "</style>\n",
       "<table border=\"1\" class=\"dataframe\">\n",
       "  <thead>\n",
       "    <tr style=\"text-align: right;\">\n",
       "      <th></th>\n",
       "      <th>qualifyId</th>\n",
       "      <th>raceId</th>\n",
       "      <th>driverId</th>\n",
       "      <th>constructorId</th>\n",
       "      <th>number</th>\n",
       "      <th>position</th>\n",
       "      <th>q1</th>\n",
       "      <th>q2</th>\n",
       "      <th>q3</th>\n",
       "    </tr>\n",
       "  </thead>\n",
       "  <tbody>\n",
       "    <tr>\n",
       "      <th>0</th>\n",
       "      <td>1</td>\n",
       "      <td>18</td>\n",
       "      <td>1</td>\n",
       "      <td>1</td>\n",
       "      <td>22</td>\n",
       "      <td>1</td>\n",
       "      <td>01:26.6</td>\n",
       "      <td>01:25.2</td>\n",
       "      <td>01:26.7</td>\n",
       "    </tr>\n",
       "    <tr>\n",
       "      <th>1</th>\n",
       "      <td>2</td>\n",
       "      <td>18</td>\n",
       "      <td>9</td>\n",
       "      <td>2</td>\n",
       "      <td>4</td>\n",
       "      <td>2</td>\n",
       "      <td>01:26.1</td>\n",
       "      <td>01:25.3</td>\n",
       "      <td>01:26.9</td>\n",
       "    </tr>\n",
       "    <tr>\n",
       "      <th>2</th>\n",
       "      <td>3</td>\n",
       "      <td>18</td>\n",
       "      <td>5</td>\n",
       "      <td>1</td>\n",
       "      <td>23</td>\n",
       "      <td>3</td>\n",
       "      <td>01:25.7</td>\n",
       "      <td>01:25.5</td>\n",
       "      <td>01:27.1</td>\n",
       "    </tr>\n",
       "    <tr>\n",
       "      <th>3</th>\n",
       "      <td>4</td>\n",
       "      <td>18</td>\n",
       "      <td>13</td>\n",
       "      <td>6</td>\n",
       "      <td>2</td>\n",
       "      <td>4</td>\n",
       "      <td>01:26.0</td>\n",
       "      <td>01:25.7</td>\n",
       "      <td>01:27.2</td>\n",
       "    </tr>\n",
       "    <tr>\n",
       "      <th>4</th>\n",
       "      <td>5</td>\n",
       "      <td>18</td>\n",
       "      <td>2</td>\n",
       "      <td>2</td>\n",
       "      <td>3</td>\n",
       "      <td>5</td>\n",
       "      <td>01:26.0</td>\n",
       "      <td>01:25.5</td>\n",
       "      <td>01:27.2</td>\n",
       "    </tr>\n",
       "  </tbody>\n",
       "</table>\n",
       "</div>"
      ],
      "text/plain": [
       "   qualifyId  raceId  driverId  constructorId  number  position       q1  \\\n",
       "0          1      18         1              1      22         1  01:26.6   \n",
       "1          2      18         9              2       4         2  01:26.1   \n",
       "2          3      18         5              1      23         3  01:25.7   \n",
       "3          4      18        13              6       2         4  01:26.0   \n",
       "4          5      18         2              2       3         5  01:26.0   \n",
       "\n",
       "        q2       q3  \n",
       "0  01:25.2  01:26.7  \n",
       "1  01:25.3  01:26.9  \n",
       "2  01:25.5  01:27.1  \n",
       "3  01:25.7  01:27.2  \n",
       "4  01:25.5  01:27.2  "
      ]
     },
     "execution_count": 3,
     "metadata": {},
     "output_type": "execute_result"
    }
   ],
   "source": [
    "df.head()"
   ]
  },
  {
   "cell_type": "code",
   "execution_count": 5,
   "id": "f9b98211",
   "metadata": {},
   "outputs": [
    {
     "data": {
      "text/plain": [
       "qualifyId         int64\n",
       "raceId            int64\n",
       "driverId          int64\n",
       "constructorId     int64\n",
       "number            int64\n",
       "position          int64\n",
       "q1               object\n",
       "q2               object\n",
       "q3               object\n",
       "dtype: object"
      ]
     },
     "execution_count": 5,
     "metadata": {},
     "output_type": "execute_result"
    }
   ],
   "source": [
    "df.dtypes"
   ]
  },
  {
   "cell_type": "code",
   "execution_count": 15,
   "id": "499f9069",
   "metadata": {},
   "outputs": [
    {
     "data": {
      "text/plain": [
       "str"
      ]
     },
     "execution_count": 15,
     "metadata": {},
     "output_type": "execute_result"
    }
   ],
   "source": [
    "type(df['q1'][0])"
   ]
  },
  {
   "cell_type": "code",
   "execution_count": null,
   "id": "86495137",
   "metadata": {},
   "outputs": [],
   "source": [
    "#clean_df['q1'] = clean_df['q1'].astype(str)\n",
    "#clean_df['q2'] = clean_df['q2'].astype(int)\n",
    "#clean_df['q3'] = clean_df['q3'].astype(int)\n",
    "\n",
    "#r'(\\d{2}:\\d{2}:\\d{2})')\n",
    "\n",
    "#clean_df['q1'].str.replace(r'(\\d{2}:\\d{2}:\\d{2})'),'lol')"
   ]
  },
  {
   "cell_type": "code",
   "execution_count": 23,
   "id": "7cc3794c",
   "metadata": {},
   "outputs": [],
   "source": [
    "problem_detector = re.compile(r':.*:')"
   ]
  },
  {
   "cell_type": "code",
   "execution_count": 27,
   "id": "23001d2e",
   "metadata": {},
   "outputs": [],
   "source": [
    "problem_detector.search('01:26.6')"
   ]
  },
  {
   "cell_type": "code",
   "execution_count": 41,
   "id": "7e518ea8",
   "metadata": {},
   "outputs": [
    {
     "data": {
      "text/plain": [
       "qualifyId             22\n",
       "raceId                18\n",
       "driverId              19\n",
       "constructorId          8\n",
       "number                19\n",
       "position              22\n",
       "q1               01:29.1\n",
       "q2                    \\N\n",
       "q3                    \\N\n",
       "Name: 21, dtype: object"
      ]
     },
     "execution_count": 41,
     "metadata": {},
     "output_type": "execute_result"
    }
   ],
   "source": [
    "#df['q1'].appy(lambda x : bool(problem_detector.search(x)))\n",
    "\n",
    "df.loc[21]"
   ]
  },
  {
   "cell_type": "code",
   "execution_count": null,
   "id": "d8a3c57f",
   "metadata": {},
   "outputs": [],
   "source": []
  }
 ],
 "metadata": {
  "kernelspec": {
   "display_name": "mlenv",
   "language": "python",
   "name": "mlenv"
  },
  "language_info": {
   "codemirror_mode": {
    "name": "ipython",
    "version": 3
   },
   "file_extension": ".py",
   "mimetype": "text/x-python",
   "name": "python",
   "nbconvert_exporter": "python",
   "pygments_lexer": "ipython3",
   "version": "3.7.13"
  }
 },
 "nbformat": 4,
 "nbformat_minor": 5
}
