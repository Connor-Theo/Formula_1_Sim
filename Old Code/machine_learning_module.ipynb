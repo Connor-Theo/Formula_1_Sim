{
 "cells": [
  {
   "cell_type": "code",
   "execution_count": 175,
   "id": "d7f7e187",
   "metadata": {},
   "outputs": [],
   "source": [
    "import warnings\n",
    "warnings.filterwarnings('ignore')"
   ]
  },
  {
   "cell_type": "code",
   "execution_count": 176,
   "id": "c0618081",
   "metadata": {},
   "outputs": [],
   "source": [
    "import psycopg2\n",
    "import numpy as np\n",
    "import pandas as pd\n",
    "from pathlib import Path\n",
    "from collections import Counter\n",
    "from sqlalchemy import create_engine\n",
    "from matplotlib import pyplot as plt"
   ]
  },
  {
   "cell_type": "code",
   "execution_count": 177,
   "id": "c67143f8",
   "metadata": {},
   "outputs": [],
   "source": [
    "from sklearn.metrics import balanced_accuracy_score\n",
    "from sklearn.metrics import confusion_matrix\n",
    "from imblearn.metrics import classification_report_imbalanced"
   ]
  },
  {
   "cell_type": "code",
   "execution_count": 187,
   "id": "1078c1e2",
   "metadata": {},
   "outputs": [],
   "source": [
    "#connect to pgadmin database\n",
    "\n",
    "#https://blog.panoply.io/connecting-jupyter-notebook-with-postgresql-for-python-data-analysis\n",
    "from config import password\n",
    "\n",
    "addy = \"localhost\"\n",
    "port = \"5432\"\n",
    "username = \"postgres\"\n",
    "pswd = \"\"\n",
    "dbname = \"Formula_1\"\n",
    "\n",
    "#string that contains the postgres login info\n",
    "postgres_str = ('postgresql://{username}:{password}@{ipaddress}:{port}/{dbname}'\n",
    "    .format(username=username,\n",
    "    password= pswd,\n",
    "    ipaddress=addy,\n",
    "    port=port,\n",
    "    dbname=dbname))\n",
    "\n",
    "#connection\n",
    "connection = create_engine(postgres_str)"
   ]
  },
  {
   "cell_type": "code",
   "execution_count": 188,
   "id": "472c6ad4",
   "metadata": {},
   "outputs": [
    {
     "data": {
      "text/html": [
       "<div>\n",
       "<style scoped>\n",
       "    .dataframe tbody tr th:only-of-type {\n",
       "        vertical-align: middle;\n",
       "    }\n",
       "\n",
       "    .dataframe tbody tr th {\n",
       "        vertical-align: top;\n",
       "    }\n",
       "\n",
       "    .dataframe thead th {\n",
       "        text-align: right;\n",
       "    }\n",
       "</style>\n",
       "<table border=\"1\" class=\"dataframe\">\n",
       "  <thead>\n",
       "    <tr style=\"text-align: right;\">\n",
       "      <th></th>\n",
       "      <th>full_name</th>\n",
       "      <th>driverId</th>\n",
       "      <th>race_name</th>\n",
       "      <th>raceId</th>\n",
       "      <th>date</th>\n",
       "      <th>grid_position</th>\n",
       "      <th>finish_position</th>\n",
       "      <th>avg_humidity</th>\n",
       "      <th>avg_air_pressure</th>\n",
       "      <th>rainfall</th>\n",
       "      <th>avg_airtemp</th>\n",
       "      <th>safety_car_laps</th>\n",
       "      <th>redflag</th>\n",
       "      <th>total_lap_time</th>\n",
       "      <th>downforce_level</th>\n",
       "      <th>longest_flat_out</th>\n",
       "      <th>first_stop</th>\n",
       "      <th>start_tyre</th>\n",
       "      <th>end_tyre</th>\n",
       "      <th>num_stops</th>\n",
       "    </tr>\n",
       "  </thead>\n",
       "  <tbody>\n",
       "    <tr>\n",
       "      <th>0</th>\n",
       "      <td>Valtteri Bottas</td>\n",
       "      <td>822</td>\n",
       "      <td>Australian Grand Prix</td>\n",
       "      <td>1010</td>\n",
       "      <td>2019-03-17</td>\n",
       "      <td>2</td>\n",
       "      <td>1.0</td>\n",
       "      <td>70.453279</td>\n",
       "      <td>1015.334426</td>\n",
       "      <td>False</td>\n",
       "      <td>23.477869</td>\n",
       "      <td>0</td>\n",
       "      <td>0</td>\n",
       "      <td>5127.325</td>\n",
       "      <td>High</td>\n",
       "      <td>843.0</td>\n",
       "      <td>23.0</td>\n",
       "      <td>SOFT</td>\n",
       "      <td>MEDIUM</td>\n",
       "      <td>2.0</td>\n",
       "    </tr>\n",
       "    <tr>\n",
       "      <th>1</th>\n",
       "      <td>Lewis Hamilton</td>\n",
       "      <td>1</td>\n",
       "      <td>Australian Grand Prix</td>\n",
       "      <td>1010</td>\n",
       "      <td>2019-03-17</td>\n",
       "      <td>1</td>\n",
       "      <td>2.0</td>\n",
       "      <td>70.453279</td>\n",
       "      <td>1015.334426</td>\n",
       "      <td>False</td>\n",
       "      <td>23.477869</td>\n",
       "      <td>0</td>\n",
       "      <td>0</td>\n",
       "      <td>5148.211</td>\n",
       "      <td>High</td>\n",
       "      <td>843.0</td>\n",
       "      <td>15.0</td>\n",
       "      <td>SOFT</td>\n",
       "      <td>MEDIUM</td>\n",
       "      <td>2.0</td>\n",
       "    </tr>\n",
       "    <tr>\n",
       "      <th>2</th>\n",
       "      <td>Max Verstappen</td>\n",
       "      <td>830</td>\n",
       "      <td>Australian Grand Prix</td>\n",
       "      <td>1010</td>\n",
       "      <td>2019-03-17</td>\n",
       "      <td>4</td>\n",
       "      <td>3.0</td>\n",
       "      <td>70.453279</td>\n",
       "      <td>1015.334426</td>\n",
       "      <td>False</td>\n",
       "      <td>23.477869</td>\n",
       "      <td>0</td>\n",
       "      <td>0</td>\n",
       "      <td>5149.845</td>\n",
       "      <td>High</td>\n",
       "      <td>843.0</td>\n",
       "      <td>25.0</td>\n",
       "      <td>SOFT</td>\n",
       "      <td>MEDIUM</td>\n",
       "      <td>2.0</td>\n",
       "    </tr>\n",
       "    <tr>\n",
       "      <th>3</th>\n",
       "      <td>Sebastian Vettel</td>\n",
       "      <td>20</td>\n",
       "      <td>Australian Grand Prix</td>\n",
       "      <td>1010</td>\n",
       "      <td>2019-03-17</td>\n",
       "      <td>3</td>\n",
       "      <td>4.0</td>\n",
       "      <td>70.453279</td>\n",
       "      <td>1015.334426</td>\n",
       "      <td>False</td>\n",
       "      <td>23.477869</td>\n",
       "      <td>0</td>\n",
       "      <td>0</td>\n",
       "      <td>5184.434</td>\n",
       "      <td>High</td>\n",
       "      <td>843.0</td>\n",
       "      <td>14.0</td>\n",
       "      <td>SOFT</td>\n",
       "      <td>MEDIUM</td>\n",
       "      <td>2.0</td>\n",
       "    </tr>\n",
       "    <tr>\n",
       "      <th>4</th>\n",
       "      <td>Charles Leclerc</td>\n",
       "      <td>844</td>\n",
       "      <td>Australian Grand Prix</td>\n",
       "      <td>1010</td>\n",
       "      <td>2019-03-17</td>\n",
       "      <td>5</td>\n",
       "      <td>5.0</td>\n",
       "      <td>70.453279</td>\n",
       "      <td>1015.334426</td>\n",
       "      <td>False</td>\n",
       "      <td>23.477869</td>\n",
       "      <td>0</td>\n",
       "      <td>0</td>\n",
       "      <td>5185.555</td>\n",
       "      <td>High</td>\n",
       "      <td>843.0</td>\n",
       "      <td>28.0</td>\n",
       "      <td>SOFT</td>\n",
       "      <td>HARD</td>\n",
       "      <td>2.0</td>\n",
       "    </tr>\n",
       "  </tbody>\n",
       "</table>\n",
       "</div>"
      ],
      "text/plain": [
       "          full_name  driverId              race_name  raceId        date  \\\n",
       "0   Valtteri Bottas       822  Australian Grand Prix    1010  2019-03-17   \n",
       "1    Lewis Hamilton         1  Australian Grand Prix    1010  2019-03-17   \n",
       "2    Max Verstappen       830  Australian Grand Prix    1010  2019-03-17   \n",
       "3  Sebastian Vettel        20  Australian Grand Prix    1010  2019-03-17   \n",
       "4   Charles Leclerc       844  Australian Grand Prix    1010  2019-03-17   \n",
       "\n",
       "   grid_position  finish_position  avg_humidity  avg_air_pressure  rainfall  \\\n",
       "0              2              1.0     70.453279       1015.334426     False   \n",
       "1              1              2.0     70.453279       1015.334426     False   \n",
       "2              4              3.0     70.453279       1015.334426     False   \n",
       "3              3              4.0     70.453279       1015.334426     False   \n",
       "4              5              5.0     70.453279       1015.334426     False   \n",
       "\n",
       "   avg_airtemp  safety_car_laps  redflag  total_lap_time downforce_level  \\\n",
       "0    23.477869                0        0        5127.325            High   \n",
       "1    23.477869                0        0        5148.211            High   \n",
       "2    23.477869                0        0        5149.845            High   \n",
       "3    23.477869                0        0        5184.434            High   \n",
       "4    23.477869                0        0        5185.555            High   \n",
       "\n",
       "   longest_flat_out  first_stop start_tyre end_tyre  num_stops  \n",
       "0             843.0        23.0       SOFT   MEDIUM        2.0  \n",
       "1             843.0        15.0       SOFT   MEDIUM        2.0  \n",
       "2             843.0        25.0       SOFT   MEDIUM        2.0  \n",
       "3             843.0        14.0       SOFT   MEDIUM        2.0  \n",
       "4             843.0        28.0       SOFT     HARD        2.0  "
      ]
     },
     "execution_count": 188,
     "metadata": {},
     "output_type": "execute_result"
    }
   ],
   "source": [
    "#loading data to pandas dataframe\n",
    "\n",
    "\n",
    "#we'll use the table with all our modeling info\n",
    "df = pd.read_sql_query('''SELECT * FROM modeling_data ;''', connection)\n",
    "#df.count()\n",
    "df.head()"
   ]
  },
  {
   "cell_type": "code",
   "execution_count": 152,
   "id": "c6454f6b",
   "metadata": {},
   "outputs": [
    {
     "data": {
      "text/plain": [
       "full_name            object\n",
       "driverId              int64\n",
       "race_name            object\n",
       "raceId                int64\n",
       "date                 object\n",
       "grid_position         int64\n",
       "finish_position     float64\n",
       "avg_humidity        float64\n",
       "avg_air_pressure    float64\n",
       "rainfall              int32\n",
       "avg_airtemp         float64\n",
       "safety_car_laps       int64\n",
       "redflag               int64\n",
       "total_lap_time      float64\n",
       "downforce_level      object\n",
       "longest_flat_out    float64\n",
       "first_stop          float64\n",
       "start_tyre           object\n",
       "end_tyre             object\n",
       "num_stops           float64\n",
       "dtype: object"
      ]
     },
     "execution_count": 152,
     "metadata": {},
     "output_type": "execute_result"
    }
   ],
   "source": [
    "#data cleanup/prep\n",
    "\n",
    "#drop null columns\n",
    "clean_df = df.dropna(axis='columns',how='all')\n",
    "#clean_df.count()\n",
    "\n",
    "#drop null rows\n",
    "clean_df = clean_df.dropna()\n",
    "#clean_df.count()\n",
    "\n",
    "#converting non-numerical data into numbers\n",
    "clean_df['rainfall'] = np.where(clean_df['rainfall'] == 'False', 0,1)\n",
    "\n",
    "#converting categorical variables to numerical\n",
    "#test_df['downforce_level'] = test_df['downforce_level'].replace([\"Low\",\"Low/medium\",\"Medium\",\"High\",\"Maximum\"],[1,2,3,4,5],inplace=True)\n",
    "\n",
    "#test_df\n",
    "#'finish_position','avg_humidity','avg_air_pressure','avg_airtemp'\n",
    "#dropping unneeded columns\n",
    "#test_df = clean_df.drop(['driverId','raceId','full_name','race_name','date','downforce_level','start_tyre','end_tyre'], axis=1)\n",
    "\n",
    "#converting finish position to int\n",
    "#test_df['finish_position'] = test_df['finish_position'].astype(int)\n",
    "\n",
    "#test_df.dtypes\n",
    "clean_df.dtypes"
   ]
  },
  {
   "cell_type": "code",
   "execution_count": 136,
   "id": "304327d7",
   "metadata": {},
   "outputs": [],
   "source": [
    "#split data into training and testing\n",
    "\n",
    "# Create our features\n",
    "X = clean_df.drop(columns = 'finish_position')\n",
    "X = pd.get_dummies(X)\n",
    "#X.head()\n",
    "#Create our target\n",
    "y = clean_df['finish_position']\n"
   ]
  },
  {
   "cell_type": "code",
   "execution_count": 137,
   "id": "7f7800e1",
   "metadata": {},
   "outputs": [],
   "source": [
    "from sklearn.model_selection import train_test_split\n",
    "X_train, X_test, y_train, y_test = train_test_split(X, y, random_state=1)"
   ]
  },
  {
   "cell_type": "code",
   "execution_count": 138,
   "id": "ce6cc5d7",
   "metadata": {},
   "outputs": [
    {
     "data": {
      "text/plain": [
       "LogisticRegression(random_state=1)"
      ]
     },
     "execution_count": 138,
     "metadata": {},
     "output_type": "execute_result"
    }
   ],
   "source": [
    "from sklearn.linear_model import LogisticRegression\n",
    "classifier = LogisticRegression(solver='lbfgs', random_state=1)\n",
    "classifier"
   ]
  },
  {
   "cell_type": "code",
   "execution_count": 139,
   "id": "88653584",
   "metadata": {},
   "outputs": [
    {
     "data": {
      "text/plain": [
       "LogisticRegression(random_state=1)"
      ]
     },
     "execution_count": 139,
     "metadata": {},
     "output_type": "execute_result"
    }
   ],
   "source": [
    "classifier.fit(X_train, y_train)"
   ]
  },
  {
   "cell_type": "code",
   "execution_count": 140,
   "id": "8062ea63",
   "metadata": {},
   "outputs": [
    {
     "data": {
      "text/html": [
       "<div>\n",
       "<style scoped>\n",
       "    .dataframe tbody tr th:only-of-type {\n",
       "        vertical-align: middle;\n",
       "    }\n",
       "\n",
       "    .dataframe tbody tr th {\n",
       "        vertical-align: top;\n",
       "    }\n",
       "\n",
       "    .dataframe thead th {\n",
       "        text-align: right;\n",
       "    }\n",
       "</style>\n",
       "<table border=\"1\" class=\"dataframe\">\n",
       "  <thead>\n",
       "    <tr style=\"text-align: right;\">\n",
       "      <th></th>\n",
       "      <th>Prediction</th>\n",
       "      <th>Actual</th>\n",
       "    </tr>\n",
       "  </thead>\n",
       "  <tbody>\n",
       "    <tr>\n",
       "      <th>1072</th>\n",
       "      <td>7.0</td>\n",
       "      <td>14.0</td>\n",
       "    </tr>\n",
       "    <tr>\n",
       "      <th>162</th>\n",
       "      <td>7.0</td>\n",
       "      <td>3.0</td>\n",
       "    </tr>\n",
       "    <tr>\n",
       "      <th>207</th>\n",
       "      <td>7.0</td>\n",
       "      <td>8.0</td>\n",
       "    </tr>\n",
       "    <tr>\n",
       "      <th>247</th>\n",
       "      <td>6.0</td>\n",
       "      <td>8.0</td>\n",
       "    </tr>\n",
       "    <tr>\n",
       "      <th>1028</th>\n",
       "      <td>7.0</td>\n",
       "      <td>10.0</td>\n",
       "    </tr>\n",
       "    <tr>\n",
       "      <th>...</th>\n",
       "      <td>...</td>\n",
       "      <td>...</td>\n",
       "    </tr>\n",
       "    <tr>\n",
       "      <th>880</th>\n",
       "      <td>7.0</td>\n",
       "      <td>1.0</td>\n",
       "    </tr>\n",
       "    <tr>\n",
       "      <th>462</th>\n",
       "      <td>7.0</td>\n",
       "      <td>4.0</td>\n",
       "    </tr>\n",
       "    <tr>\n",
       "      <th>460</th>\n",
       "      <td>7.0</td>\n",
       "      <td>2.0</td>\n",
       "    </tr>\n",
       "    <tr>\n",
       "      <th>393</th>\n",
       "      <td>6.0</td>\n",
       "      <td>14.0</td>\n",
       "    </tr>\n",
       "    <tr>\n",
       "      <th>1062</th>\n",
       "      <td>7.0</td>\n",
       "      <td>4.0</td>\n",
       "    </tr>\n",
       "  </tbody>\n",
       "</table>\n",
       "<p>142 rows × 2 columns</p>\n",
       "</div>"
      ],
      "text/plain": [
       "      Prediction  Actual\n",
       "1072         7.0    14.0\n",
       "162          7.0     3.0\n",
       "207          7.0     8.0\n",
       "247          6.0     8.0\n",
       "1028         7.0    10.0\n",
       "...          ...     ...\n",
       "880          7.0     1.0\n",
       "462          7.0     4.0\n",
       "460          7.0     2.0\n",
       "393          6.0    14.0\n",
       "1062         7.0     4.0\n",
       "\n",
       "[142 rows x 2 columns]"
      ]
     },
     "execution_count": 140,
     "metadata": {},
     "output_type": "execute_result"
    }
   ],
   "source": [
    "predictions = classifier.predict(X_test)\n",
    "pd.DataFrame({\"Prediction\": predictions, \"Actual\": y_test})"
   ]
  },
  {
   "cell_type": "code",
   "execution_count": 143,
   "id": "bf1ca455",
   "metadata": {},
   "outputs": [
    {
     "data": {
      "text/plain": [
       "0.028169014084507043"
      ]
     },
     "execution_count": 143,
     "metadata": {},
     "output_type": "execute_result"
    }
   ],
   "source": [
    "from sklearn.metrics import accuracy_score\n",
    "accuracy_score(y_test, predictions)"
   ]
  },
  {
   "cell_type": "code",
   "execution_count": 142,
   "id": "4580fe56",
   "metadata": {},
   "outputs": [
    {
     "name": "stdout",
     "output_type": "stream",
     "text": [
      "0.1056338028169014\n"
     ]
    }
   ],
   "source": [
    "print(accuracy_score(y_test, y_pred))"
   ]
  },
  {
   "cell_type": "code",
   "execution_count": 144,
   "id": "0d6185ad",
   "metadata": {},
   "outputs": [
    {
     "data": {
      "text/plain": [
       "BalancedRandomForestClassifier(random_state=1)"
      ]
     },
     "execution_count": 144,
     "metadata": {},
     "output_type": "execute_result"
    }
   ],
   "source": [
    "#balanced random forest classifers\n",
    "from imblearn.ensemble import BalancedRandomForestClassifier\n",
    "brfc = BalancedRandomForestClassifier(n_estimators=100, random_state=1)\n",
    "brfc.fit(X_train, y_train)"
   ]
  },
  {
   "cell_type": "code",
   "execution_count": 145,
   "id": "15ce82ef",
   "metadata": {},
   "outputs": [
    {
     "data": {
      "text/plain": [
       "0.07464285714285715"
      ]
     },
     "execution_count": 145,
     "metadata": {},
     "output_type": "execute_result"
    }
   ],
   "source": [
    "# Calculated the balanced accuracy score\n",
    "from sklearn.metrics import confusion_matrix\n",
    "y_pred = brfc.predict(X_test)\n",
    "\n",
    "\n",
    "from sklearn.metrics import balanced_accuracy_score\n",
    "balanced_accuracy_score(y_test, y_pred)"
   ]
  },
  {
   "cell_type": "code",
   "execution_count": 146,
   "id": "81671faf",
   "metadata": {},
   "outputs": [
    {
     "data": {
      "text/plain": [
       "array([[5, 2, 0, 1, 0, 0, 0, 0, 0, 0, 0, 0, 0, 0, 0, 0, 0, 0, 0, 0],\n",
       "       [2, 3, 0, 0, 0, 0, 0, 0, 0, 0, 0, 0, 0, 0, 0, 0, 0, 0, 0, 0],\n",
       "       [2, 3, 0, 2, 0, 0, 0, 1, 0, 0, 0, 0, 0, 0, 0, 0, 0, 0, 0, 0],\n",
       "       [0, 3, 0, 1, 1, 1, 0, 1, 1, 0, 0, 0, 0, 0, 0, 0, 0, 0, 0, 0],\n",
       "       [2, 0, 1, 2, 0, 1, 0, 0, 1, 1, 1, 0, 0, 0, 0, 0, 0, 0, 0, 0],\n",
       "       [0, 1, 1, 1, 1, 0, 1, 2, 1, 0, 0, 1, 0, 0, 0, 0, 0, 0, 0, 0],\n",
       "       [0, 0, 0, 0, 0, 0, 0, 1, 0, 0, 0, 0, 0, 0, 0, 0, 0, 0, 0, 0],\n",
       "       [0, 0, 0, 0, 0, 0, 2, 0, 1, 2, 0, 1, 1, 0, 0, 0, 0, 0, 1, 0],\n",
       "       [1, 0, 0, 2, 4, 0, 1, 2, 0, 0, 0, 1, 0, 2, 1, 0, 0, 0, 1, 0],\n",
       "       [0, 0, 1, 0, 0, 0, 1, 0, 2, 0, 0, 0, 0, 1, 2, 0, 1, 0, 1, 0],\n",
       "       [0, 0, 1, 0, 0, 1, 0, 1, 1, 0, 0, 0, 0, 1, 1, 0, 1, 0, 0, 0],\n",
       "       [0, 0, 0, 1, 0, 1, 0, 0, 1, 0, 1, 0, 1, 0, 0, 0, 0, 0, 0, 0],\n",
       "       [1, 0, 0, 1, 1, 0, 0, 0, 1, 0, 0, 0, 1, 0, 0, 0, 1, 0, 1, 0],\n",
       "       [0, 0, 0, 0, 0, 0, 0, 1, 2, 0, 1, 0, 0, 0, 3, 0, 1, 0, 1, 0],\n",
       "       [0, 0, 0, 0, 1, 0, 0, 0, 3, 0, 2, 1, 1, 1, 0, 1, 1, 0, 0, 0],\n",
       "       [0, 0, 0, 0, 0, 0, 3, 0, 1, 0, 1, 0, 0, 1, 1, 0, 0, 2, 1, 0],\n",
       "       [0, 1, 0, 0, 0, 1, 0, 1, 1, 0, 0, 0, 0, 1, 1, 0, 0, 0, 0, 0],\n",
       "       [0, 0, 0, 0, 0, 0, 0, 0, 0, 1, 0, 0, 0, 0, 0, 1, 0, 0, 2, 0],\n",
       "       [0, 0, 0, 0, 0, 0, 0, 1, 0, 0, 0, 0, 0, 0, 0, 0, 0, 1, 0, 0],\n",
       "       [0, 0, 0, 0, 0, 0, 0, 0, 0, 0, 0, 0, 0, 0, 1, 0, 0, 0, 0, 0]],\n",
       "      dtype=int64)"
      ]
     },
     "execution_count": 146,
     "metadata": {},
     "output_type": "execute_result"
    }
   ],
   "source": [
    "#confusion matrix\n",
    "confusion_matrix(y_test, y_pred)"
   ]
  },
  {
   "cell_type": "code",
   "execution_count": 147,
   "id": "93cd5efa",
   "metadata": {},
   "outputs": [
    {
     "name": "stdout",
     "output_type": "stream",
     "text": [
      "                   pre       rec       spe        f1       geo       iba       sup\n",
      "\n",
      "        1.0       0.38      0.62      0.94      0.48      0.77      0.57         8\n",
      "        2.0       0.23      0.60      0.93      0.33      0.75      0.54         5\n",
      "        3.0       0.00      0.00      0.97      0.00      0.00      0.00         8\n",
      "        4.0       0.09      0.12      0.93      0.11      0.34      0.11         8\n",
      "        5.0       0.00      0.00      0.94      0.00      0.00      0.00         9\n",
      "        6.0       0.00      0.00      0.96      0.00      0.00      0.00         9\n",
      "        7.0       0.00      0.00      0.94      0.00      0.00      0.00         1\n",
      "        8.0       0.00      0.00      0.92      0.00      0.00      0.00         8\n",
      "        9.0       0.00      0.00      0.87      0.00      0.00      0.00        15\n",
      "       10.0       0.00      0.00      0.97      0.00      0.00      0.00         9\n",
      "       11.0       0.00      0.00      0.96      0.00      0.00      0.00         7\n",
      "       12.0       0.00      0.00      0.97      0.00      0.00      0.00         5\n",
      "       13.0       0.25      0.14      0.98      0.18      0.37      0.13         7\n",
      "       14.0       0.00      0.00      0.95      0.00      0.00      0.00         9\n",
      "       15.0       0.00      0.00      0.92      0.00      0.00      0.00        11\n",
      "       16.0       0.00      0.00      0.98      0.00      0.00      0.00        10\n",
      "       17.0       0.00      0.00      0.96      0.00      0.00      0.00         6\n",
      "       18.0       0.00      0.00      0.98      0.00      0.00      0.00         4\n",
      "       19.0       0.00      0.00      0.94      0.00      0.00      0.00         2\n",
      "       20.0       0.00      0.00      1.00      0.00      0.00      0.00         1\n",
      "\n",
      "avg / total       0.05      0.07      0.94      0.05      0.11      0.06       142\n",
      "\n"
     ]
    }
   ],
   "source": [
    "# Print the imbalanced classification report\n",
    "from imblearn.metrics import classification_report_imbalanced\n",
    "print(classification_report_imbalanced(y_test, y_pred))"
   ]
  },
  {
   "cell_type": "code",
   "execution_count": 148,
   "id": "5ea03fe3",
   "metadata": {},
   "outputs": [
    {
     "data": {
      "text/plain": [
       "EasyEnsembleClassifier(n_estimators=100, random_state=1)"
      ]
     },
     "execution_count": 148,
     "metadata": {},
     "output_type": "execute_result"
    }
   ],
   "source": [
    "#EasyEnsembleClassifier\n",
    "\n",
    "from imblearn.ensemble import EasyEnsembleClassifier\n",
    "eec = EasyEnsembleClassifier(n_estimators=100, random_state=1)\n",
    "eec.fit(X_train, y_train)"
   ]
  },
  {
   "cell_type": "code",
   "execution_count": 149,
   "id": "d0e806b5",
   "metadata": {},
   "outputs": [
    {
     "data": {
      "text/plain": [
       "0.100239898989899"
      ]
     },
     "execution_count": 149,
     "metadata": {},
     "output_type": "execute_result"
    }
   ],
   "source": [
    "# Calculated the balanced accuracy score\n",
    "y_pred = eec.predict(X_test)\n",
    "balanced_accuracy_score(y_test, y_pred)"
   ]
  },
  {
   "cell_type": "code",
   "execution_count": 150,
   "id": "5a98087c",
   "metadata": {},
   "outputs": [
    {
     "data": {
      "text/plain": [
       "array([[1, 2, 4, 1, 0, 0, 0, 0, 0, 0, 0, 0, 0, 0, 0, 0, 0, 0, 0, 0],\n",
       "       [0, 2, 3, 0, 0, 0, 0, 0, 0, 0, 0, 0, 0, 0, 0, 0, 0, 0, 0, 0],\n",
       "       [0, 2, 5, 1, 0, 0, 0, 0, 0, 0, 0, 0, 0, 0, 0, 0, 0, 0, 0, 0],\n",
       "       [1, 3, 1, 1, 0, 0, 2, 0, 0, 0, 0, 0, 0, 0, 0, 0, 0, 0, 0, 0],\n",
       "       [0, 1, 0, 2, 0, 0, 3, 1, 0, 0, 0, 0, 1, 0, 0, 0, 1, 0, 0, 0],\n",
       "       [0, 1, 0, 1, 0, 1, 4, 1, 1, 0, 0, 0, 0, 0, 0, 0, 0, 0, 0, 0],\n",
       "       [0, 0, 0, 0, 0, 0, 0, 1, 0, 0, 0, 0, 0, 0, 0, 0, 0, 0, 0, 0],\n",
       "       [0, 0, 0, 0, 0, 1, 0, 0, 0, 1, 2, 0, 1, 1, 0, 0, 0, 0, 2, 0],\n",
       "       [0, 1, 0, 1, 0, 2, 2, 1, 1, 1, 2, 0, 0, 0, 1, 0, 0, 1, 2, 0],\n",
       "       [0, 1, 1, 0, 0, 0, 0, 0, 2, 0, 2, 0, 1, 0, 1, 1, 0, 0, 0, 0],\n",
       "       [0, 0, 0, 0, 0, 0, 0, 1, 0, 0, 0, 0, 1, 3, 1, 0, 0, 1, 0, 0],\n",
       "       [0, 0, 0, 0, 0, 0, 1, 0, 1, 0, 3, 0, 0, 0, 0, 0, 0, 0, 0, 0],\n",
       "       [0, 2, 0, 0, 0, 2, 0, 0, 0, 0, 0, 0, 0, 1, 0, 1, 1, 0, 0, 0],\n",
       "       [0, 0, 0, 0, 1, 0, 0, 0, 1, 0, 2, 0, 0, 1, 1, 0, 0, 1, 2, 0],\n",
       "       [0, 0, 0, 0, 0, 1, 0, 0, 0, 0, 0, 0, 0, 1, 1, 1, 1, 4, 2, 0],\n",
       "       [0, 0, 0, 0, 0, 1, 0, 0, 0, 1, 0, 0, 0, 2, 0, 1, 0, 4, 1, 0],\n",
       "       [0, 0, 0, 1, 0, 0, 0, 0, 0, 0, 0, 0, 0, 0, 1, 3, 0, 0, 1, 0],\n",
       "       [0, 0, 0, 1, 0, 0, 0, 0, 0, 0, 0, 0, 0, 0, 0, 1, 0, 1, 1, 0],\n",
       "       [0, 0, 0, 0, 0, 0, 0, 0, 0, 1, 0, 0, 0, 0, 0, 1, 0, 0, 0, 0],\n",
       "       [0, 0, 0, 0, 0, 0, 0, 0, 0, 0, 0, 0, 0, 0, 0, 1, 0, 0, 0, 0]],\n",
       "      dtype=int64)"
      ]
     },
     "execution_count": 150,
     "metadata": {},
     "output_type": "execute_result"
    }
   ],
   "source": [
    "\n",
    "# Display the confusion matrix\n",
    "confusion_matrix(y_test, y_pred)"
   ]
  },
  {
   "cell_type": "code",
   "execution_count": 151,
   "id": "a1321283",
   "metadata": {},
   "outputs": [
    {
     "name": "stdout",
     "output_type": "stream",
     "text": [
      "                   pre       rec       spe        f1       geo       iba       sup\n",
      "\n",
      "        1.0       0.50      0.12      0.99      0.20      0.35      0.11         8\n",
      "        2.0       0.13      0.40      0.91      0.20      0.60      0.34         5\n",
      "        3.0       0.36      0.62      0.93      0.45      0.76      0.57         8\n",
      "        4.0       0.11      0.12      0.94      0.12      0.34      0.11         8\n",
      "        5.0       0.00      0.00      0.99      0.00      0.00      0.00         9\n",
      "        6.0       0.12      0.11      0.95      0.12      0.32      0.10         9\n",
      "        7.0       0.00      0.00      0.91      0.00      0.00      0.00         1\n",
      "        8.0       0.00      0.00      0.96      0.00      0.00      0.00         8\n",
      "        9.0       0.17      0.07      0.96      0.10      0.25      0.06        15\n",
      "       10.0       0.00      0.00      0.97      0.00      0.00      0.00         9\n",
      "       11.0       0.00      0.00      0.92      0.00      0.00      0.00         7\n",
      "       12.0       0.00      0.00      1.00      0.00      0.00      0.00         5\n",
      "       13.0       0.00      0.00      0.97      0.00      0.00      0.00         7\n",
      "       14.0       0.11      0.11      0.94      0.11      0.32      0.10         9\n",
      "       15.0       0.17      0.09      0.96      0.12      0.30      0.08        11\n",
      "       16.0       0.10      0.10      0.93      0.10      0.31      0.09        10\n",
      "       17.0       0.00      0.00      0.98      0.00      0.00      0.00         6\n",
      "       18.0       0.08      0.25      0.92      0.12      0.48      0.21         4\n",
      "       19.0       0.00      0.00      0.92      0.00      0.00      0.00         2\n",
      "       20.0       0.00      0.00      1.00      0.00      0.00      0.00         1\n",
      "\n",
      "avg / total       0.11      0.11      0.96      0.09      0.23      0.09       142\n",
      "\n"
     ]
    }
   ],
   "source": [
    "\n",
    "# Print the imbalanced classification report\n",
    "print(classification_report_imbalanced(y_test, y_pred))"
   ]
  },
  {
   "cell_type": "code",
   "execution_count": null,
   "id": "f3742894",
   "metadata": {},
   "outputs": [],
   "source": []
  }
 ],
 "metadata": {
  "kernelspec": {
   "display_name": "mlenv",
   "language": "python",
   "name": "mlenv"
  },
  "language_info": {
   "codemirror_mode": {
    "name": "ipython",
    "version": 3
   },
   "file_extension": ".py",
   "mimetype": "text/x-python",
   "name": "python",
   "nbconvert_exporter": "python",
   "pygments_lexer": "ipython3",
   "version": "3.7.13"
  }
 },
 "nbformat": 4,
 "nbformat_minor": 5
}
