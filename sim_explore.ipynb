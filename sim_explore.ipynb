{
 "cells": [
  {
   "cell_type": "code",
   "execution_count": 1,
   "id": "dea1006c",
   "metadata": {},
   "outputs": [],
   "source": [
    "import pandas as pd\n",
    "import numpy as np\n",
    "import matplotlib\n",
    "import matplotlib.pyplot as plt\n",
    "from datetime import datetime as dt\n",
    "import time\n"
   ]
  },
  {
   "cell_type": "code",
   "execution_count": 2,
   "id": "329f9051",
   "metadata": {},
   "outputs": [
    {
     "data": {
      "text/html": [
       "<div>\n",
       "<style scoped>\n",
       "    .dataframe tbody tr th:only-of-type {\n",
       "        vertical-align: middle;\n",
       "    }\n",
       "\n",
       "    .dataframe tbody tr th {\n",
       "        vertical-align: top;\n",
       "    }\n",
       "\n",
       "    .dataframe thead th {\n",
       "        text-align: right;\n",
       "    }\n",
       "</style>\n",
       "<table border=\"1\" class=\"dataframe\">\n",
       "  <thead>\n",
       "    <tr style=\"text-align: right;\">\n",
       "      <th></th>\n",
       "      <th>race_name</th>\n",
       "      <th>date</th>\n",
       "      <th>full_name</th>\n",
       "      <th>finish_position</th>\n",
       "      <th>grid_position</th>\n",
       "      <th>avg_humidity</th>\n",
       "      <th>avg_air_pressure</th>\n",
       "      <th>rainfall</th>\n",
       "      <th>avg_airtemp</th>\n",
       "      <th>downforce_level</th>\n",
       "      <th>start_tyre</th>\n",
       "      <th>end_tyre</th>\n",
       "      <th>num_stops</th>\n",
       "      <th>q1</th>\n",
       "      <th>q2</th>\n",
       "      <th>q3</th>\n",
       "      <th>Unnamed: 16</th>\n",
       "    </tr>\n",
       "  </thead>\n",
       "  <tbody>\n",
       "    <tr>\n",
       "      <th>0</th>\n",
       "      <td>70th Anniversary Grand Prix</td>\n",
       "      <td>8/9/2020</td>\n",
       "      <td>Valtteri Bottas</td>\n",
       "      <td>3.0</td>\n",
       "      <td>1</td>\n",
       "      <td>58.556034</td>\n",
       "      <td>1000.950862</td>\n",
       "      <td>f</td>\n",
       "      <td>25.287069</td>\n",
       "      <td>High</td>\n",
       "      <td>MEDIUM</td>\n",
       "      <td>HARD</td>\n",
       "      <td>3.0</td>\n",
       "      <td>01:26.7</td>\n",
       "      <td>01:25.8</td>\n",
       "      <td>01:25.2</td>\n",
       "      <td>NaN</td>\n",
       "    </tr>\n",
       "    <tr>\n",
       "      <th>1</th>\n",
       "      <td>70th Anniversary Grand Prix</td>\n",
       "      <td>8/9/2020</td>\n",
       "      <td>Lewis Hamilton</td>\n",
       "      <td>2.0</td>\n",
       "      <td>2</td>\n",
       "      <td>58.556034</td>\n",
       "      <td>1000.950862</td>\n",
       "      <td>f</td>\n",
       "      <td>25.287069</td>\n",
       "      <td>High</td>\n",
       "      <td>MEDIUM</td>\n",
       "      <td>HARD</td>\n",
       "      <td>3.0</td>\n",
       "      <td>01:26.8</td>\n",
       "      <td>01:26.3</td>\n",
       "      <td>01:25.2</td>\n",
       "      <td>NaN</td>\n",
       "    </tr>\n",
       "    <tr>\n",
       "      <th>2</th>\n",
       "      <td>70th Anniversary Grand Prix</td>\n",
       "      <td>8/9/2020</td>\n",
       "      <td>Nico Hulkenberg</td>\n",
       "      <td>7.0</td>\n",
       "      <td>3</td>\n",
       "      <td>58.556034</td>\n",
       "      <td>1000.950862</td>\n",
       "      <td>f</td>\n",
       "      <td>25.287069</td>\n",
       "      <td>High</td>\n",
       "      <td>MEDIUM</td>\n",
       "      <td>SOFT</td>\n",
       "      <td>4.0</td>\n",
       "      <td>01:27.3</td>\n",
       "      <td>01:26.3</td>\n",
       "      <td>01:26.1</td>\n",
       "      <td>NaN</td>\n",
       "    </tr>\n",
       "    <tr>\n",
       "      <th>3</th>\n",
       "      <td>70th Anniversary Grand Prix</td>\n",
       "      <td>8/9/2020</td>\n",
       "      <td>Max Verstappen</td>\n",
       "      <td>1.0</td>\n",
       "      <td>4</td>\n",
       "      <td>58.556034</td>\n",
       "      <td>1000.950862</td>\n",
       "      <td>f</td>\n",
       "      <td>25.287069</td>\n",
       "      <td>High</td>\n",
       "      <td>HARD</td>\n",
       "      <td>HARD</td>\n",
       "      <td>3.0</td>\n",
       "      <td>01:27.2</td>\n",
       "      <td>01:26.8</td>\n",
       "      <td>01:26.2</td>\n",
       "      <td>NaN</td>\n",
       "    </tr>\n",
       "    <tr>\n",
       "      <th>4</th>\n",
       "      <td>70th Anniversary Grand Prix</td>\n",
       "      <td>8/9/2020</td>\n",
       "      <td>Daniel Ricciardo</td>\n",
       "      <td>14.0</td>\n",
       "      <td>5</td>\n",
       "      <td>58.556034</td>\n",
       "      <td>1000.950862</td>\n",
       "      <td>f</td>\n",
       "      <td>25.287069</td>\n",
       "      <td>High</td>\n",
       "      <td>MEDIUM</td>\n",
       "      <td>MEDIUM</td>\n",
       "      <td>4.0</td>\n",
       "      <td>01:27.4</td>\n",
       "      <td>01:26.6</td>\n",
       "      <td>01:26.3</td>\n",
       "      <td>NaN</td>\n",
       "    </tr>\n",
       "  </tbody>\n",
       "</table>\n",
       "</div>"
      ],
      "text/plain": [
       "                     race_name      date         full_name  finish_position  \\\n",
       "0  70th Anniversary Grand Prix  8/9/2020   Valtteri Bottas              3.0   \n",
       "1  70th Anniversary Grand Prix  8/9/2020    Lewis Hamilton              2.0   \n",
       "2  70th Anniversary Grand Prix  8/9/2020   Nico Hulkenberg              7.0   \n",
       "3  70th Anniversary Grand Prix  8/9/2020    Max Verstappen              1.0   \n",
       "4  70th Anniversary Grand Prix  8/9/2020  Daniel Ricciardo             14.0   \n",
       "\n",
       "   grid_position  avg_humidity  avg_air_pressure rainfall  avg_airtemp  \\\n",
       "0              1     58.556034       1000.950862        f    25.287069   \n",
       "1              2     58.556034       1000.950862        f    25.287069   \n",
       "2              3     58.556034       1000.950862        f    25.287069   \n",
       "3              4     58.556034       1000.950862        f    25.287069   \n",
       "4              5     58.556034       1000.950862        f    25.287069   \n",
       "\n",
       "  downforce_level start_tyre end_tyre  num_stops       q1       q2       q3  \\\n",
       "0            High     MEDIUM     HARD        3.0  01:26.7  01:25.8  01:25.2   \n",
       "1            High     MEDIUM     HARD        3.0  01:26.8  01:26.3  01:25.2   \n",
       "2            High     MEDIUM     SOFT        4.0  01:27.3  01:26.3  01:26.1   \n",
       "3            High       HARD     HARD        3.0  01:27.2  01:26.8  01:26.2   \n",
       "4            High     MEDIUM   MEDIUM        4.0  01:27.4  01:26.6  01:26.3   \n",
       "\n",
       "   Unnamed: 16  \n",
       "0          NaN  \n",
       "1          NaN  \n",
       "2          NaN  \n",
       "3          NaN  \n",
       "4          NaN  "
      ]
     },
     "execution_count": 2,
     "metadata": {},
     "output_type": "execute_result"
    }
   ],
   "source": [
    "file_path = 'Resources\\sim_data.csv'\n",
    "sim_df = pd.read_csv(file_path)\n",
    "sim_df.head()"
   ]
  },
  {
   "cell_type": "code",
   "execution_count": null,
   "id": "48b984bf",
   "metadata": {},
   "outputs": [],
   "source": []
  },
  {
   "cell_type": "code",
   "execution_count": 3,
   "id": "7985c7f5",
   "metadata": {},
   "outputs": [
    {
     "data": {
      "text/plain": [
       "race_name           1136\n",
       "date                1136\n",
       "full_name           1136\n",
       "finish_position      989\n",
       "grid_position       1136\n",
       "avg_humidity        1136\n",
       "avg_air_pressure    1136\n",
       "rainfall            1136\n",
       "avg_airtemp         1136\n",
       "downforce_level      716\n",
       "start_tyre          1117\n",
       "end_tyre            1117\n",
       "num_stops           1117\n",
       "q1                  1120\n",
       "q2                   841\n",
       "q3                   555\n",
       "Unnamed: 16            0\n",
       "dtype: int64"
      ]
     },
     "execution_count": 3,
     "metadata": {},
     "output_type": "execute_result"
    }
   ],
   "source": [
    "# check columns and rows that are not null\n",
    "sim_df.count()"
   ]
  },
  {
   "cell_type": "code",
   "execution_count": 4,
   "id": "10241175",
   "metadata": {},
   "outputs": [
    {
     "data": {
      "text/plain": [
       "race_name              0\n",
       "date                   0\n",
       "full_name              0\n",
       "finish_position      147\n",
       "grid_position          0\n",
       "avg_humidity           0\n",
       "avg_air_pressure       0\n",
       "rainfall               0\n",
       "avg_airtemp            0\n",
       "downforce_level      420\n",
       "start_tyre            19\n",
       "end_tyre              19\n",
       "num_stops             19\n",
       "q1                    16\n",
       "q2                   295\n",
       "q3                   581\n",
       "Unnamed: 16         1136\n",
       "dtype: int64"
      ]
     },
     "execution_count": 4,
     "metadata": {},
     "output_type": "execute_result"
    }
   ],
   "source": [
    "# check columns and rows that contain nulls\n",
    "sim_df.isnull().sum()"
   ]
  },
  {
   "cell_type": "code",
   "execution_count": 5,
   "id": "129232e1",
   "metadata": {},
   "outputs": [
    {
     "data": {
      "text/plain": [
       "race_name            object\n",
       "date                 object\n",
       "full_name            object\n",
       "finish_position     float64\n",
       "grid_position         int64\n",
       "avg_humidity        float64\n",
       "avg_air_pressure    float64\n",
       "rainfall             object\n",
       "avg_airtemp         float64\n",
       "downforce_level      object\n",
       "start_tyre           object\n",
       "end_tyre             object\n",
       "num_stops           float64\n",
       "q1                   object\n",
       "q2                   object\n",
       "q3                   object\n",
       "Unnamed: 16         float64\n",
       "dtype: object"
      ]
     },
     "execution_count": 5,
     "metadata": {},
     "output_type": "execute_result"
    }
   ],
   "source": [
    "# column data types\n",
    "sim_df.dtypes"
   ]
  },
  {
   "cell_type": "code",
   "execution_count": null,
   "id": "96aaf9ba",
   "metadata": {},
   "outputs": [],
   "source": []
  },
  {
   "cell_type": "code",
   "execution_count": 6,
   "id": "43c60599",
   "metadata": {},
   "outputs": [],
   "source": [
    "#  ADDING REGEX HERE to replace second colon in qualifying time with decimal so datetime conversion below will run correctly"
   ]
  },
  {
   "cell_type": "code",
   "execution_count": 7,
   "id": "ee63d436",
   "metadata": {},
   "outputs": [
    {
     "ename": "ValueError",
     "evalue": "time data '0:01:36' does not match format '%M:%S.%f' (match)",
     "output_type": "error",
     "traceback": [
      "\u001b[1;31m---------------------------------------------------------------------------\u001b[0m",
      "\u001b[1;31mTypeError\u001b[0m                                 Traceback (most recent call last)",
      "\u001b[1;32m~\\anaconda3\\envs\\PythonData\\lib\\site-packages\\pandas\\core\\tools\\datetimes.py\u001b[0m in \u001b[0;36m_to_datetime_with_format\u001b[1;34m(arg, orig_arg, name, tz, fmt, exact, errors, infer_datetime_format)\u001b[0m\n\u001b[0;32m    508\u001b[0m         \u001b[1;32mtry\u001b[0m\u001b[1;33m:\u001b[0m\u001b[1;33m\u001b[0m\u001b[1;33m\u001b[0m\u001b[0m\n\u001b[1;32m--> 509\u001b[1;33m             \u001b[0mvalues\u001b[0m\u001b[1;33m,\u001b[0m \u001b[0mtz\u001b[0m \u001b[1;33m=\u001b[0m \u001b[0mconversion\u001b[0m\u001b[1;33m.\u001b[0m\u001b[0mdatetime_to_datetime64\u001b[0m\u001b[1;33m(\u001b[0m\u001b[0marg\u001b[0m\u001b[1;33m)\u001b[0m\u001b[1;33m\u001b[0m\u001b[1;33m\u001b[0m\u001b[0m\n\u001b[0m\u001b[0;32m    510\u001b[0m             \u001b[0mdta\u001b[0m \u001b[1;33m=\u001b[0m \u001b[0mDatetimeArray\u001b[0m\u001b[1;33m(\u001b[0m\u001b[0mvalues\u001b[0m\u001b[1;33m,\u001b[0m \u001b[0mdtype\u001b[0m\u001b[1;33m=\u001b[0m\u001b[0mtz_to_dtype\u001b[0m\u001b[1;33m(\u001b[0m\u001b[0mtz\u001b[0m\u001b[1;33m)\u001b[0m\u001b[1;33m)\u001b[0m\u001b[1;33m\u001b[0m\u001b[1;33m\u001b[0m\u001b[0m\n",
      "\u001b[1;32m~\\anaconda3\\envs\\PythonData\\lib\\site-packages\\pandas\\_libs\\tslibs\\conversion.pyx\u001b[0m in \u001b[0;36mpandas._libs.tslibs.conversion.datetime_to_datetime64\u001b[1;34m()\u001b[0m\n",
      "\u001b[1;31mTypeError\u001b[0m: Unrecognized value type: <class 'str'>",
      "\nDuring handling of the above exception, another exception occurred:\n",
      "\u001b[1;31mValueError\u001b[0m                                Traceback (most recent call last)",
      "\u001b[1;32m~\\AppData\\Local\\Temp/ipykernel_2440/968172867.py\u001b[0m in \u001b[0;36m<module>\u001b[1;34m\u001b[0m\n\u001b[1;32m----> 1\u001b[1;33m \u001b[0msim_df\u001b[0m\u001b[1;33m[\u001b[0m\u001b[1;34m'q1'\u001b[0m\u001b[1;33m]\u001b[0m \u001b[1;33m=\u001b[0m \u001b[0mpd\u001b[0m\u001b[1;33m.\u001b[0m\u001b[0mto_datetime\u001b[0m\u001b[1;33m(\u001b[0m\u001b[0msim_df\u001b[0m\u001b[1;33m[\u001b[0m\u001b[1;34m'q1'\u001b[0m\u001b[1;33m]\u001b[0m\u001b[1;33m,\u001b[0m \u001b[0mformat\u001b[0m\u001b[1;33m=\u001b[0m\u001b[1;34m'%M:%S.%f'\u001b[0m\u001b[1;33m)\u001b[0m\u001b[1;33m\u001b[0m\u001b[1;33m\u001b[0m\u001b[0m\n\u001b[0m\u001b[0;32m      2\u001b[0m \u001b[0msim_df\u001b[0m\u001b[1;33m[\u001b[0m\u001b[1;34m'q2'\u001b[0m\u001b[1;33m]\u001b[0m \u001b[1;33m=\u001b[0m \u001b[0mpd\u001b[0m\u001b[1;33m.\u001b[0m\u001b[0mto_datetime\u001b[0m\u001b[1;33m(\u001b[0m\u001b[0msim_df\u001b[0m\u001b[1;33m[\u001b[0m\u001b[1;34m'q2'\u001b[0m\u001b[1;33m]\u001b[0m\u001b[1;33m,\u001b[0m \u001b[0mformat\u001b[0m\u001b[1;33m=\u001b[0m\u001b[1;34m'%M:%S.%f'\u001b[0m\u001b[1;33m)\u001b[0m\u001b[1;33m\u001b[0m\u001b[1;33m\u001b[0m\u001b[0m\n\u001b[0;32m      3\u001b[0m \u001b[0msim_df\u001b[0m\u001b[1;33m[\u001b[0m\u001b[1;34m'q3'\u001b[0m\u001b[1;33m]\u001b[0m \u001b[1;33m=\u001b[0m \u001b[0mpd\u001b[0m\u001b[1;33m.\u001b[0m\u001b[0mto_datetime\u001b[0m\u001b[1;33m(\u001b[0m\u001b[0msim_df\u001b[0m\u001b[1;33m[\u001b[0m\u001b[1;34m'q3'\u001b[0m\u001b[1;33m]\u001b[0m\u001b[1;33m,\u001b[0m \u001b[0mformat\u001b[0m\u001b[1;33m=\u001b[0m\u001b[1;34m'%M:%S.%f'\u001b[0m\u001b[1;33m)\u001b[0m\u001b[1;33m\u001b[0m\u001b[1;33m\u001b[0m\u001b[0m\n\u001b[0;32m      4\u001b[0m \u001b[0msim_df\u001b[0m\u001b[1;33m.\u001b[0m\u001b[0mhead\u001b[0m\u001b[1;33m(\u001b[0m\u001b[1;33m)\u001b[0m\u001b[1;33m\u001b[0m\u001b[1;33m\u001b[0m\u001b[0m\n",
      "\u001b[1;32m~\\anaconda3\\envs\\PythonData\\lib\\site-packages\\pandas\\core\\tools\\datetimes.py\u001b[0m in \u001b[0;36mto_datetime\u001b[1;34m(arg, errors, dayfirst, yearfirst, utc, format, exact, unit, infer_datetime_format, origin, cache)\u001b[0m\n\u001b[0;32m    881\u001b[0m                 \u001b[0mresult\u001b[0m \u001b[1;33m=\u001b[0m \u001b[0mresult\u001b[0m\u001b[1;33m.\u001b[0m\u001b[0mtz_localize\u001b[0m\u001b[1;33m(\u001b[0m\u001b[0mtz\u001b[0m\u001b[1;33m)\u001b[0m  \u001b[1;31m# type: ignore[call-arg]\u001b[0m\u001b[1;33m\u001b[0m\u001b[1;33m\u001b[0m\u001b[0m\n\u001b[0;32m    882\u001b[0m     \u001b[1;32melif\u001b[0m \u001b[0misinstance\u001b[0m\u001b[1;33m(\u001b[0m\u001b[0marg\u001b[0m\u001b[1;33m,\u001b[0m \u001b[0mABCSeries\u001b[0m\u001b[1;33m)\u001b[0m\u001b[1;33m:\u001b[0m\u001b[1;33m\u001b[0m\u001b[1;33m\u001b[0m\u001b[0m\n\u001b[1;32m--> 883\u001b[1;33m         \u001b[0mcache_array\u001b[0m \u001b[1;33m=\u001b[0m \u001b[0m_maybe_cache\u001b[0m\u001b[1;33m(\u001b[0m\u001b[0marg\u001b[0m\u001b[1;33m,\u001b[0m \u001b[0mformat\u001b[0m\u001b[1;33m,\u001b[0m \u001b[0mcache\u001b[0m\u001b[1;33m,\u001b[0m \u001b[0mconvert_listlike\u001b[0m\u001b[1;33m)\u001b[0m\u001b[1;33m\u001b[0m\u001b[1;33m\u001b[0m\u001b[0m\n\u001b[0m\u001b[0;32m    884\u001b[0m         \u001b[1;32mif\u001b[0m \u001b[1;32mnot\u001b[0m \u001b[0mcache_array\u001b[0m\u001b[1;33m.\u001b[0m\u001b[0mempty\u001b[0m\u001b[1;33m:\u001b[0m\u001b[1;33m\u001b[0m\u001b[1;33m\u001b[0m\u001b[0m\n\u001b[0;32m    885\u001b[0m             \u001b[0mresult\u001b[0m \u001b[1;33m=\u001b[0m \u001b[0marg\u001b[0m\u001b[1;33m.\u001b[0m\u001b[0mmap\u001b[0m\u001b[1;33m(\u001b[0m\u001b[0mcache_array\u001b[0m\u001b[1;33m)\u001b[0m\u001b[1;33m\u001b[0m\u001b[1;33m\u001b[0m\u001b[0m\n",
      "\u001b[1;32m~\\anaconda3\\envs\\PythonData\\lib\\site-packages\\pandas\\core\\tools\\datetimes.py\u001b[0m in \u001b[0;36m_maybe_cache\u001b[1;34m(arg, format, cache, convert_listlike)\u001b[0m\n\u001b[0;32m    193\u001b[0m         \u001b[0munique_dates\u001b[0m \u001b[1;33m=\u001b[0m \u001b[0munique\u001b[0m\u001b[1;33m(\u001b[0m\u001b[0marg\u001b[0m\u001b[1;33m)\u001b[0m\u001b[1;33m\u001b[0m\u001b[1;33m\u001b[0m\u001b[0m\n\u001b[0;32m    194\u001b[0m         \u001b[1;32mif\u001b[0m \u001b[0mlen\u001b[0m\u001b[1;33m(\u001b[0m\u001b[0munique_dates\u001b[0m\u001b[1;33m)\u001b[0m \u001b[1;33m<\u001b[0m \u001b[0mlen\u001b[0m\u001b[1;33m(\u001b[0m\u001b[0marg\u001b[0m\u001b[1;33m)\u001b[0m\u001b[1;33m:\u001b[0m\u001b[1;33m\u001b[0m\u001b[1;33m\u001b[0m\u001b[0m\n\u001b[1;32m--> 195\u001b[1;33m             \u001b[0mcache_dates\u001b[0m \u001b[1;33m=\u001b[0m \u001b[0mconvert_listlike\u001b[0m\u001b[1;33m(\u001b[0m\u001b[0munique_dates\u001b[0m\u001b[1;33m,\u001b[0m \u001b[0mformat\u001b[0m\u001b[1;33m)\u001b[0m\u001b[1;33m\u001b[0m\u001b[1;33m\u001b[0m\u001b[0m\n\u001b[0m\u001b[0;32m    196\u001b[0m             \u001b[0mcache_array\u001b[0m \u001b[1;33m=\u001b[0m \u001b[0mSeries\u001b[0m\u001b[1;33m(\u001b[0m\u001b[0mcache_dates\u001b[0m\u001b[1;33m,\u001b[0m \u001b[0mindex\u001b[0m\u001b[1;33m=\u001b[0m\u001b[0munique_dates\u001b[0m\u001b[1;33m)\u001b[0m\u001b[1;33m\u001b[0m\u001b[1;33m\u001b[0m\u001b[0m\n\u001b[0;32m    197\u001b[0m             \u001b[1;31m# GH#39882 and GH#35888 in case of None and NaT we get duplicates\u001b[0m\u001b[1;33m\u001b[0m\u001b[1;33m\u001b[0m\u001b[1;33m\u001b[0m\u001b[0m\n",
      "\u001b[1;32m~\\anaconda3\\envs\\PythonData\\lib\\site-packages\\pandas\\core\\tools\\datetimes.py\u001b[0m in \u001b[0;36m_convert_listlike_datetimes\u001b[1;34m(arg, format, name, tz, unit, errors, infer_datetime_format, dayfirst, yearfirst, exact)\u001b[0m\n\u001b[0;32m    392\u001b[0m     \u001b[1;32mif\u001b[0m \u001b[0mformat\u001b[0m \u001b[1;32mis\u001b[0m \u001b[1;32mnot\u001b[0m \u001b[1;32mNone\u001b[0m\u001b[1;33m:\u001b[0m\u001b[1;33m\u001b[0m\u001b[1;33m\u001b[0m\u001b[0m\n\u001b[0;32m    393\u001b[0m         res = _to_datetime_with_format(\n\u001b[1;32m--> 394\u001b[1;33m             \u001b[0marg\u001b[0m\u001b[1;33m,\u001b[0m \u001b[0morig_arg\u001b[0m\u001b[1;33m,\u001b[0m \u001b[0mname\u001b[0m\u001b[1;33m,\u001b[0m \u001b[0mtz\u001b[0m\u001b[1;33m,\u001b[0m \u001b[0mformat\u001b[0m\u001b[1;33m,\u001b[0m \u001b[0mexact\u001b[0m\u001b[1;33m,\u001b[0m \u001b[0merrors\u001b[0m\u001b[1;33m,\u001b[0m \u001b[0minfer_datetime_format\u001b[0m\u001b[1;33m\u001b[0m\u001b[1;33m\u001b[0m\u001b[0m\n\u001b[0m\u001b[0;32m    395\u001b[0m         )\n\u001b[0;32m    396\u001b[0m         \u001b[1;32mif\u001b[0m \u001b[0mres\u001b[0m \u001b[1;32mis\u001b[0m \u001b[1;32mnot\u001b[0m \u001b[1;32mNone\u001b[0m\u001b[1;33m:\u001b[0m\u001b[1;33m\u001b[0m\u001b[1;33m\u001b[0m\u001b[0m\n",
      "\u001b[1;32m~\\anaconda3\\envs\\PythonData\\lib\\site-packages\\pandas\\core\\tools\\datetimes.py\u001b[0m in \u001b[0;36m_to_datetime_with_format\u001b[1;34m(arg, orig_arg, name, tz, fmt, exact, errors, infer_datetime_format)\u001b[0m\n\u001b[0;32m    511\u001b[0m             \u001b[1;32mreturn\u001b[0m \u001b[0mDatetimeIndex\u001b[0m\u001b[1;33m.\u001b[0m\u001b[0m_simple_new\u001b[0m\u001b[1;33m(\u001b[0m\u001b[0mdta\u001b[0m\u001b[1;33m,\u001b[0m \u001b[0mname\u001b[0m\u001b[1;33m=\u001b[0m\u001b[0mname\u001b[0m\u001b[1;33m)\u001b[0m\u001b[1;33m\u001b[0m\u001b[1;33m\u001b[0m\u001b[0m\n\u001b[0;32m    512\u001b[0m         \u001b[1;32mexcept\u001b[0m \u001b[1;33m(\u001b[0m\u001b[0mValueError\u001b[0m\u001b[1;33m,\u001b[0m \u001b[0mTypeError\u001b[0m\u001b[1;33m)\u001b[0m\u001b[1;33m:\u001b[0m\u001b[1;33m\u001b[0m\u001b[1;33m\u001b[0m\u001b[0m\n\u001b[1;32m--> 513\u001b[1;33m             \u001b[1;32mraise\u001b[0m \u001b[0merr\u001b[0m\u001b[1;33m\u001b[0m\u001b[1;33m\u001b[0m\u001b[0m\n\u001b[0m\u001b[0;32m    514\u001b[0m \u001b[1;33m\u001b[0m\u001b[0m\n\u001b[0;32m    515\u001b[0m \u001b[1;33m\u001b[0m\u001b[0m\n",
      "\u001b[1;32m~\\anaconda3\\envs\\PythonData\\lib\\site-packages\\pandas\\core\\tools\\datetimes.py\u001b[0m in \u001b[0;36m_to_datetime_with_format\u001b[1;34m(arg, orig_arg, name, tz, fmt, exact, errors, infer_datetime_format)\u001b[0m\n\u001b[0;32m    499\u001b[0m         \u001b[1;31m# fallback\u001b[0m\u001b[1;33m\u001b[0m\u001b[1;33m\u001b[0m\u001b[1;33m\u001b[0m\u001b[0m\n\u001b[0;32m    500\u001b[0m         res = _array_strptime_with_fallback(\n\u001b[1;32m--> 501\u001b[1;33m             \u001b[0marg\u001b[0m\u001b[1;33m,\u001b[0m \u001b[0mname\u001b[0m\u001b[1;33m,\u001b[0m \u001b[0mtz\u001b[0m\u001b[1;33m,\u001b[0m \u001b[0mfmt\u001b[0m\u001b[1;33m,\u001b[0m \u001b[0mexact\u001b[0m\u001b[1;33m,\u001b[0m \u001b[0merrors\u001b[0m\u001b[1;33m,\u001b[0m \u001b[0minfer_datetime_format\u001b[0m\u001b[1;33m\u001b[0m\u001b[1;33m\u001b[0m\u001b[0m\n\u001b[0m\u001b[0;32m    502\u001b[0m         )\n\u001b[0;32m    503\u001b[0m         \u001b[1;32mreturn\u001b[0m \u001b[0mres\u001b[0m\u001b[1;33m\u001b[0m\u001b[1;33m\u001b[0m\u001b[0m\n",
      "\u001b[1;32m~\\anaconda3\\envs\\PythonData\\lib\\site-packages\\pandas\\core\\tools\\datetimes.py\u001b[0m in \u001b[0;36m_array_strptime_with_fallback\u001b[1;34m(arg, name, tz, fmt, exact, errors, infer_datetime_format)\u001b[0m\n\u001b[0;32m    434\u001b[0m \u001b[1;33m\u001b[0m\u001b[0m\n\u001b[0;32m    435\u001b[0m     \u001b[1;32mtry\u001b[0m\u001b[1;33m:\u001b[0m\u001b[1;33m\u001b[0m\u001b[1;33m\u001b[0m\u001b[0m\n\u001b[1;32m--> 436\u001b[1;33m         \u001b[0mresult\u001b[0m\u001b[1;33m,\u001b[0m \u001b[0mtimezones\u001b[0m \u001b[1;33m=\u001b[0m \u001b[0marray_strptime\u001b[0m\u001b[1;33m(\u001b[0m\u001b[0marg\u001b[0m\u001b[1;33m,\u001b[0m \u001b[0mfmt\u001b[0m\u001b[1;33m,\u001b[0m \u001b[0mexact\u001b[0m\u001b[1;33m=\u001b[0m\u001b[0mexact\u001b[0m\u001b[1;33m,\u001b[0m \u001b[0merrors\u001b[0m\u001b[1;33m=\u001b[0m\u001b[0merrors\u001b[0m\u001b[1;33m)\u001b[0m\u001b[1;33m\u001b[0m\u001b[1;33m\u001b[0m\u001b[0m\n\u001b[0m\u001b[0;32m    437\u001b[0m         \u001b[1;32mif\u001b[0m \u001b[1;34m\"%Z\"\u001b[0m \u001b[1;32min\u001b[0m \u001b[0mfmt\u001b[0m \u001b[1;32mor\u001b[0m \u001b[1;34m\"%z\"\u001b[0m \u001b[1;32min\u001b[0m \u001b[0mfmt\u001b[0m\u001b[1;33m:\u001b[0m\u001b[1;33m\u001b[0m\u001b[1;33m\u001b[0m\u001b[0m\n\u001b[0;32m    438\u001b[0m             \u001b[1;32mreturn\u001b[0m \u001b[0m_return_parsed_timezone_results\u001b[0m\u001b[1;33m(\u001b[0m\u001b[0mresult\u001b[0m\u001b[1;33m,\u001b[0m \u001b[0mtimezones\u001b[0m\u001b[1;33m,\u001b[0m \u001b[0mtz\u001b[0m\u001b[1;33m,\u001b[0m \u001b[0mname\u001b[0m\u001b[1;33m)\u001b[0m\u001b[1;33m\u001b[0m\u001b[1;33m\u001b[0m\u001b[0m\n",
      "\u001b[1;32m~\\anaconda3\\envs\\PythonData\\lib\\site-packages\\pandas\\_libs\\tslibs\\strptime.pyx\u001b[0m in \u001b[0;36mpandas._libs.tslibs.strptime.array_strptime\u001b[1;34m()\u001b[0m\n",
      "\u001b[1;31mValueError\u001b[0m: time data '0:01:36' does not match format '%M:%S.%f' (match)"
     ]
    }
   ],
   "source": [
    "# sim_df['q1'] = pd.to_datetime(sim_df['q1'], format='%M:%S.%f')\n",
    "# sim_df['q2'] = pd.to_datetime(sim_df['q2'], format='%M:%S.%f')\n",
    "# sim_df['q3'] = pd.to_datetime(sim_df['q3'], format='%M:%S.%f')\n",
    "# sim_df.head()"
   ]
  },
  {
   "cell_type": "code",
   "execution_count": null,
   "id": "a7bdc3f9",
   "metadata": {},
   "outputs": [],
   "source": [
    "sim_df['finish_position'].head()"
   ]
  },
  {
   "cell_type": "code",
   "execution_count": null,
   "id": "de9fc484",
   "metadata": {},
   "outputs": [],
   "source": [
    "# If a driver does not finish (DNF) a race they are represented as blanks in finish_position column. \n",
    "# To reperesent the DNF cells, this replaces NaN with 20, as in 20th place\n",
    "\n",
    "sim_df['finish_position'] = sim_df['finish_position'].fillna(20)\n",
    "sim_df['finish_position'].head(40)"
   ]
  },
  {
   "cell_type": "code",
   "execution_count": null,
   "id": "78d71de5",
   "metadata": {},
   "outputs": [],
   "source": [
    "sim_df.head()"
   ]
  },
  {
   "cell_type": "code",
   "execution_count": null,
   "id": "e1432c86",
   "metadata": {},
   "outputs": [],
   "source": [
    "sim_df['qualifying_times'] = sim_df[['q1', 'q2', 'q3']].min(axis=1)"
   ]
  },
  {
   "cell_type": "code",
   "execution_count": null,
   "id": "c416eb74",
   "metadata": {},
   "outputs": [],
   "source": [
    "sim_df.head()"
   ]
  },
  {
   "cell_type": "code",
   "execution_count": null,
   "id": "20e6a764",
   "metadata": {},
   "outputs": [],
   "source": [
    "# drop columns not needed\n",
    "sim_df = sim_df.drop(['downforce_level', 'q1', 'q2', 'q3'], axis=1)\n",
    "sim_df.head()"
   ]
  },
  {
   "cell_type": "code",
   "execution_count": null,
   "id": "3084fb11",
   "metadata": {},
   "outputs": [],
   "source": [
    "sim_df = sim_df.drop('Unnamed: 16', axis=1)\n",
    "sim_df.head()"
   ]
  },
  {
   "cell_type": "code",
   "execution_count": null,
   "id": "074ef747",
   "metadata": {},
   "outputs": [],
   "source": [
    "sim_df['rainfall'] = np.where(sim_df['rainfall'] == 'False' , 0 ,1)"
   ]
  },
  {
   "cell_type": "code",
   "execution_count": null,
   "id": "35a5ed41",
   "metadata": {},
   "outputs": [],
   "source": [
    "sim_df.head()"
   ]
  },
  {
   "cell_type": "code",
   "execution_count": null,
   "id": "ab25d328",
   "metadata": {},
   "outputs": [],
   "source": [
    "sim_df['start_tyre'].unique()"
   ]
  },
  {
   "cell_type": "code",
   "execution_count": null,
   "id": "d07ce73a",
   "metadata": {},
   "outputs": [],
   "source": [
    "# assign tire types to integers\n",
    "\n",
    "d = {np.nan:0, 'SOFT':1,'MEDIUM':2,'HARD':3, 'INTERMEDIATE':4, 'WET':5}\n",
    "\n",
    "sim_df['start_tyre'] = sim_df['start_tyre'].map(d).astype(int)\n",
    "sim_df.head(10)"
   ]
  },
  {
   "cell_type": "code",
   "execution_count": null,
   "id": "7bad76c6",
   "metadata": {},
   "outputs": [],
   "source": [
    "# assign tire types to integers\n",
    "\n",
    "d = {np.nan:0, 'SOFT':1,'MEDIUM':2,'HARD':3, 'INTERMEDIATE':4, 'WET':5}\n",
    "\n",
    "sim_df['end_tyre'] = sim_df['end_tyre'].map(d).astype(int)\n",
    "sim_df.head(10)"
   ]
  },
  {
   "cell_type": "code",
   "execution_count": null,
   "id": "318d5dc6",
   "metadata": {},
   "outputs": [],
   "source": [
    "sim_df.dtypes"
   ]
  },
  {
   "cell_type": "code",
   "execution_count": null,
   "id": "986e233a",
   "metadata": {},
   "outputs": [],
   "source": [
    "#sim_df['qualifying_times'].dt.hour * 3600 +\n",
    "sim_df['qt_seconds'] = sim_df['qualifying_times'].dt.hour * 3600 + sim_df['qualifying_times'].dt.minute * 60 + sim_df['qualifying_times'].dt.second\n",
    "sim_df.head()"
   ]
  },
  {
   "cell_type": "code",
   "execution_count": null,
   "id": "c10970bb",
   "metadata": {},
   "outputs": [],
   "source": [
    "# ADD VISUALIZATIONS - histograms?"
   ]
  },
  {
   "cell_type": "code",
   "execution_count": null,
   "id": "96b97e64",
   "metadata": {},
   "outputs": [],
   "source": [
    "# avg_driver_finish = sim_df.groupby([\"full_name\"]).mean()[\"finish_position\"]\n",
    "# avg_driver_finish"
   ]
  },
  {
   "cell_type": "code",
   "execution_count": null,
   "id": "fec1a254",
   "metadata": {},
   "outputs": [],
   "source": [
    "# avg_driver_qual = sim_df.groupby([\"full_name\"]).mean()[\"qualifying_time\"]\n",
    "# avg_driver_qual"
   ]
  },
  {
   "cell_type": "code",
   "execution_count": null,
   "id": "e6be5dd6",
   "metadata": {},
   "outputs": [],
   "source": []
  }
 ],
 "metadata": {
  "kernelspec": {
   "display_name": "PythonData",
   "language": "python",
   "name": "pythondata"
  },
  "language_info": {
   "codemirror_mode": {
    "name": "ipython",
    "version": 3
   },
   "file_extension": ".py",
   "mimetype": "text/x-python",
   "name": "python",
   "nbconvert_exporter": "python",
   "pygments_lexer": "ipython3",
   "version": "3.7.11"
  }
 },
 "nbformat": 4,
 "nbformat_minor": 5
}
